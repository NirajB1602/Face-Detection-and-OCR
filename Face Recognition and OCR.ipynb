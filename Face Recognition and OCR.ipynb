{
 "cells": [
  {
   "cell_type": "code",
   "execution_count": null,
   "id": "737c56e5",
   "metadata": {},
   "outputs": [],
   "source": [
    "import math\n",
    "import zipfile\n",
    "\n",
    "from PIL import Image, ImageOps, ImageDraw\n",
    "import pytesseract\n",
    "import cv2 as cv\n",
    "import numpy as np\n",
    "\n",
    "# loading the face detection classifier\n",
    "face_cascade = cv.CascadeClassifier('readonly/haarcascade_frontalface_default.xml')\n",
    "\n",
    "# the rest is up to you!"
   ]
  },
  {
   "cell_type": "code",
   "execution_count": null,
   "id": "07566410",
   "metadata": {},
   "outputs": [],
   "source": [
    "#define a parsed source to work on:\n",
    "parsed_img_src = {}  "
   ]
  },
  {
   "cell_type": "code",
   "execution_count": null,
   "id": "5a944c3f",
   "metadata": {},
   "outputs": [],
   "source": [
    "#iterate through the zip file and save all the binarized versions to parsed_img_src\n",
    "with zipfile.ZipFile('readonly/images.zip', 'r') as archive:\n",
    "    for entry in archive.infolist():\n",
    "        with archive.open(entry) as file:\n",
    "            img = Image.open(file).convert('RGB')\n",
    "            parsed_img_src[entry.filename] = {'pil_img':img}"
   ]
  },
  {
   "cell_type": "code",
   "execution_count": null,
   "id": "1c20d1a2",
   "metadata": {},
   "outputs": [],
   "source": [
    "#parse all images text\n",
    "for img_name in parsed_img_src.keys():\n",
    "    text = pytesseract.image_to_string(parsed_img_src[img_name]['pil_img'])\n",
    "    parsed_img_src[img_name]['text'] = text"
   ]
  },
  {
   "cell_type": "code",
   "execution_count": null,
   "id": "05a7deb4",
   "metadata": {},
   "outputs": [],
   "source": [
    "#find the bounding boxes for all the faces from every page and extract them\n",
    "for img_name in parsed_img_src.keys():\n",
    "    open_cv_image = np.array(parsed_img_src[img_name]['pil_img']) \n",
    "    img_g = cv.cvtColor(open_cv_image, cv.COLOR_BGR2GRAY)\n",
    "    faces_bounding_boxes = face_cascade.detectMultiScale(img_g, 1.3, 5)\n",
    "    parsed_img_src[img_name]['faces'] = []\n",
    "    for x,y,w,h in faces_bounding_boxes:\n",
    "        face = parsed_img_src[img_name]['pil_img'].crop((x,y,x+w,y+h))\n",
    "        parsed_img_src[img_name]['faces'].append(face)"
   ]
  },
  {
   "cell_type": "code",
   "execution_count": null,
   "id": "8bd36fc0",
   "metadata": {},
   "outputs": [],
   "source": [
    "#create thumbnails\n",
    "for img_name in parsed_img_src.keys():\n",
    "    for face in parsed_img_src[img_name]['faces']:\n",
    "        face.thumbnail((100,100),Image.ANTIALIAS)"
   ]
  },
  {
   "cell_type": "code",
   "execution_count": null,
   "id": "e3d9d3c7",
   "metadata": {},
   "outputs": [],
   "source": [
    "#search the keyword in every page's text and return the faces\n",
    "def search(keyword):\n",
    "    for img_name in parsed_img_src:\n",
    "        if (keyword in parsed_img_src[img_name]['text']):\n",
    "            if(len(parsed_img_src[img_name]['faces']) != 0):\n",
    "                print(\"Result found in file {}\".format(img_name))\n",
    "                h = math.ceil(len(parsed_img_src[img_name]['faces'])/5)\n",
    "                contact_sheet=Image.new('RGB',(500, 100*h))\n",
    "                xc = 0\n",
    "                yc = 0\n",
    "                for img in parsed_img_src[img_name]['faces']:\n",
    "                    contact_sheet.paste(img, (xc, yc))\n",
    "                    if xc + 100 == contact_sheet.width:\n",
    "                        xc = 0\n",
    "                        yc += 100\n",
    "                    else:\n",
    "                        xc += 100\n",
    "                        \n",
    "                display(contact_sheet)\n",
    "            else:\n",
    "                print(\"Result found in file {} \\nBut there were no faces in that file\\n\\n\".format(img_name))"
   ]
  },
  {
   "cell_type": "code",
   "execution_count": null,
   "id": "91c84fe4",
   "metadata": {},
   "outputs": [],
   "source": [
    "search('Christopher')"
   ]
  },
  {
   "cell_type": "code",
   "execution_count": null,
   "id": "22b5d8f9",
   "metadata": {},
   "outputs": [],
   "source": [
    "search('Mark')"
   ]
  },
  {
   "cell_type": "code",
   "execution_count": null,
   "id": "881bd2a3",
   "metadata": {},
   "outputs": [],
   "source": [
    "search('Pizza')"
   ]
  },
  {
   "cell_type": "code",
   "execution_count": null,
   "id": "df0332dd",
   "metadata": {},
   "outputs": [],
   "source": []
  }
 ],
 "metadata": {
  "kernelspec": {
   "display_name": "Python 3 (ipykernel)",
   "language": "python",
   "name": "python3"
  },
  "language_info": {
   "codemirror_mode": {
    "name": "ipython",
    "version": 3
   },
   "file_extension": ".py",
   "mimetype": "text/x-python",
   "name": "python",
   "nbconvert_exporter": "python",
   "pygments_lexer": "ipython3",
   "version": "3.9.13"
  }
 },
 "nbformat": 4,
 "nbformat_minor": 5
}
